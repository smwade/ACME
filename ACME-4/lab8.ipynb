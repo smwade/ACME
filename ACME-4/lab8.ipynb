{
 "cells": [
  {
   "cell_type": "markdown",
   "metadata": {},
   "source": [
    "# Heat Flow\n",
    "Sean Wade"
   ]
  },
  {
   "cell_type": "code",
   "execution_count": 1,
   "metadata": {
    "collapsed": true
   },
   "outputs": [],
   "source": [
    "import numpy as np\n",
    "import scipy as sp\n",
    "from matplotlib import pyplot as plt\n",
    "from matplotlib import animation\n",
    "import seaborn\n",
    "from __future__ import division, print_function"
   ]
  },
  {
   "cell_type": "code",
   "execution_count": 2,
   "metadata": {
    "collapsed": true
   },
   "outputs": [],
   "source": [
    "%matplotlib inline"
   ]
  },
  {
   "cell_type": "markdown",
   "metadata": {},
   "source": [
    "## Problem 1"
   ]
  },
  {
   "cell_type": "code",
   "execution_count": 3,
   "metadata": {
    "collapsed": false
   },
   "outputs": [
    {
     "data": {
      "image/png": "[encoded data removed]",
      "text/plain": [
       "<matplotlib.figure.Figure at 0x11489c590>"
      ]
     },
     "metadata": {},
     "output_type": "display_data"
    }
   ],
   "source": [
    "u0 = lambda x: 2 * np.maximum(.2 - abs(x - .5), 0)\n",
    "x = np.linspace(0, 1, 7)\n",
    "plt.plot(x, u0(x))\n",
    "plt.show()"
   ]
  },
  {
   "cell_type": "code",
   "execution_count": 6,
   "metadata": {
    "collapsed": true
   },
   "outputs": [],
   "source": [
    "def u_i(a, b, n, n1, n2, nu, U):\n",
    "    k = (b-a) / n2\n",
    "    h = (b-a) / n1\n",
    "    lmbda = nu*k / h**2\n",
    "    A = np.diag(np.ones(n1+1)) - np.diag(2*lmbda*np.ones(n1+1)) \n",
    "    A += np.diag(np.ones(n1) * lmbda, k=-1)\n",
    "    A += np.diag(np.ones(n1) * lmbda, k=1)\n",
    "    return np.linalg.matrix_power(A, n).dot(U)"
   ]
  },
  {
   "cell_type": "code",
   "execution_count": 7,
   "metadata": {
    "collapsed": false
   },
   "outputs": [
    {
     "data": {
      "image/png": "[encoded data removed]",
      "text/plain": [
       "<matplotlib.figure.Figure at 0x116eb1a50>"
      ]
     },
     "metadata": {},
     "output_type": "display_data"
    }
   ],
   "source": [
    "x = np.linspace(0, 1, 11)\n",
    "U = u0(x)\n",
    "u10 = u_i(0, 1, 6, 10, 10, .05, U)\n",
    "plt.plot(x, u10)\n",
    "plt.show()"
   ]
  },
  {
   "cell_type": "markdown",
   "metadata": {},
   "source": [
    "## Problem 2"
   ]
  },
  {
   "cell_type": "markdown",
   "metadata": {},
   "source": [
    "*Note: To run the animation make sure to not have matplotlib inline at the top*"
   ]
  },
  {
   "cell_type": "code",
   "execution_count": 14,
   "metadata": {
    "collapsed": true
   },
   "outputs": [],
   "source": [
    "def heat_animation(res=140): \n",
    "    # Make the x and y data.\n",
    "    x = np.linspace(-12, 12, res+1)\n",
    "    y = np.maximum(1-x**2, 0)\n",
    "    \n",
    "    # Initialize a matplotlib figure.\n",
    "    f = plt.figure()\n",
    "    \n",
    "    # Set the x and y axes by constructing an axes object.\n",
    "    plt.axes(xlim=(-12,12), ylim=(0,1))\n",
    "    \n",
    "    # Plot an empty line to use in the animation.\n",
    "    # Notice that we are unpacking a tuple of length 1.\n",
    "    line, = plt.plot([], [])\n",
    "    \n",
    "    # Define an animation function that will update the line to\n",
    "    # reflect the desired data for the ith frame.\n",
    "    def animate(i):\n",
    "        # Set the data for updated version of the line.\n",
    "        line.set_data(x, np.linalg.matrix_power(A, i).dot(y))\n",
    "        # Notice that this returns a tuple of length 1.\n",
    "        return line,\n",
    "    \n",
    "    a = animation.FuncAnimation(f, animate, frames=y.size, interval=20)\n",
    "    plt.show()"
   ]
  },
  {
   "cell_type": "code",
   "execution_count": 15,
   "metadata": {
    "collapsed": true
   },
   "outputs": [],
   "source": [
    "nu = 1\n",
    "a, b = -12, 12\n",
    "n, n2 = 140, 70\n",
    "k = 1 / n2\n",
    "h = 24 / n1\n",
    "lmbda = nu*k / h**2\n",
    "A = np.diag(np.ones(n1+1)) - np.diag(2*lmbda*np.ones(n1+1))\n",
    "A += np.diag(np.ones(n1) * lmbda, k=-1)\n",
    "A += np.diag(np.ones(n1) * lmbda, k=1)\n",
    "heat_animation()"
   ]
  },
  {
   "cell_type": "code",
   "execution_count": 17,
   "metadata": {
    "collapsed": false
   },
   "outputs": [],
   "source": [
    "n2 = 66\n",
    "k = 1/n2\n",
    "lmbda = nu*k/h**2\n",
    "A = np.diag(np.ones(n1+1)) - np.diag(2*lmbda*np.ones(n1+1))\n",
    "A += np.diag(np.ones(n1) * lmbda, k=-1)\n",
    "A += np.diag(np.ones(n1) * lmbda, k=1)\n",
    "heat_animation()"
   ]
  },
  {
   "cell_type": "markdown",
   "metadata": {},
   "source": [
    "## Problem 3"
   ]
  },
  {
   "cell_type": "code",
   "execution_count": 55,
   "metadata": {
    "collapsed": false
   },
   "outputs": [],
   "source": [
    "u = lambda x, t: np.maximum(1-x**2, t)\n",
    "\n",
    "def crank_nicol(fctn=u, x_int=140, t_int=70, xa=-12, xb=12, ta=0, tb=1, nu=1.):\n",
    "    x = np.linspace(xa, xb, x_int+1)\n",
    "    t = np.linspace(ta, tb, t_int+1)\n",
    "    h = np.float(xb-xa)/x_int\n",
    "    k = np.float(tb-ta)/t_int\n",
    "    u_j = u(x, 0)\n",
    "    lmbda = nu*k / (2*h**2)\n",
    "    A = np.diag(np.ones(x_int+1)) - np.diag(2*lmbda*np.ones(x_int+1))\n",
    "    A += np.diag(np.ones(x_int) * lmbda, k=-1)\n",
    "    A += np.diag(np.ones(x_int) * lmbda, k=1)\n",
    "    B = np.diag(np.ones(x_int+1))\n",
    "    B += np.diag(2*lmbda*np.ones(x_int+1))\n",
    "    B += np.diag(-np.ones(x_int) * lmbda, k=-1)\n",
    "    B += np.diag(-np.ones(x_int) * lmbda, k=1)\n",
    "\n",
    "    for i in xrange(t_int):\n",
    "        u_j = np.linalg.solve(B, A.dot(u_j))\n",
    "    return u_j"
   ]
  },
  {
   "cell_type": "code",
   "execution_count": 56,
   "metadata": {
    "collapsed": false
   },
   "outputs": [
    {
     "name": "stderr",
     "output_type": "stream",
     "text": [
      "/anaconda/lib/python2.7/site-packages/ipykernel/__main__.py:1: VisibleDeprecationWarning: using a non-integer number instead of an integer will result in an error in the future\n",
      "  if __name__ == '__main__':\n",
      "/anaconda/lib/python2.7/site-packages/ipykernel/__main__.py:9: VisibleDeprecationWarning: using a non-integer number instead of an integer will result in an error in the future\n"
     ]
    },
    {
     "data": {
      "image/png": "[encoded data removed]",
      "text/plain": [
       "<matplotlib.figure.Figure at 0x11be55c50>"
      ]
     },
     "metadata": {},
     "output_type": "display_data"
    }
   ],
   "source": [
    "soln = crank_nicol(x_int = 640, t_int=640)[::(640/20)]\n",
    "solutions = []\n",
    "\n",
    "h_size = []\n",
    "x_int_size = [20, 40, 80, 160, 320, 640]\n",
    "\n",
    "for i in x_int_size:\n",
    "    solns = crank_nicol(x_int=i, t_int=i)\n",
    "    solns = solns[::(i/20)]\n",
    "    sol = np.max(np.abs(solns - soln))\n",
    "    solutions.append(sol)\n",
    "    h_size.append(24/i)\n",
    "\n",
    "plt.loglog(h_size, np.array(h_size)**2, 'r', label = \"$h^2$\")\n",
    "plt.loglog(h_size, solutions, label = \"Error $E(h)$\")\n",
    "plt.legend()\n",
    "plt.show()"
   ]
  }
 ],
 "metadata": {
  "kernelspec": {
   "display_name": "Python 2",
   "language": "python",
   "name": "python2"
  },
  "language_info": {
   "codemirror_mode": {
    "name": "ipython",
    "version": 2
   },
   "file_extension": ".py",
   "mimetype": "text/x-python",
   "name": "python",
   "nbconvert_exporter": "python",
   "pygments_lexer": "ipython2",
   "version": "2.7.10"
  }
 },
 "nbformat": 4,
 "nbformat_minor": 0
}
