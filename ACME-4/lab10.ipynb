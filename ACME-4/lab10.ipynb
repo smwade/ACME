{
 "cells": [
  {
   "cell_type": "markdown",
   "metadata": {},
   "source": [
    "# Wave Phenomena\n",
    "Sean Wade"
   ]
  },
  {
   "cell_type": "code",
   "execution_count": 18,
   "metadata": {
    "collapsed": true
   },
   "outputs": [],
   "source": [
    "import numpy as np\n",
    "from matplotlib import pyplot as plt\n",
    "from matplotlib import animation\n",
    "from scipy.integrate import odeint\n",
    "from scipy import optimize as opt\n",
    "from __future__ import division"
   ]
  },
  {
   "cell_type": "markdown",
   "metadata": {},
   "source": [
    "## Problem 1"
   ]
  },
  {
   "cell_type": "code",
   "execution_count": 2,
   "metadata": {
    "collapsed": true
   },
   "outputs": [],
   "source": [
    "def solve(J, M, t, f, g, a, b, s, iters=None):\n",
    "    \n",
    "    x = np.linspace(a, b, J+1)\n",
    "    if iters == None:\n",
    "        iters = M - 1\n",
    "        \n",
    "    del_x = float(b-a) / J\n",
    "    del_t = t / M\n",
    "    \n",
    "    lmbda = (s * del_t) / del_x\n",
    "    U_0 = np.array([f(k) for k in x])[1:-1]\n",
    "    n = len(U_0)\n",
    "    \n",
    "    A = np.diag(2 * np.ones(n))\n",
    "    A -= np.diag(2 * (lmbda**2) * np.ones(n))\n",
    "    A += np.diag(np.ones(n-1)*lmbda**2, k=-1)\n",
    "    A += np.diag(np.ones(n-1)*lmbda**2, k=1)\n",
    "    \n",
    "    U_1 = U_0 + g(x[1:-1]) * del_t+((lmbda**2)/2.) * ((np.array([f(i) for i in x])[0:-2])-2*U_0+np.array([f(j) for j in x])[2:])\n",
    "    U_M = U_1\n",
    "    U_M_minus = U_0\n",
    "    U_M_1 = U_1\n",
    "    \n",
    "    for i in range(iters):\n",
    "        U_M_1 = np.dot(A, U_M) - U_M_minus\n",
    "        U_M_minus = U_M\n",
    "        U_M = U_M_1\n",
    "        \n",
    "    U_M_1 = np.append(f(a), U_M_1)\n",
    "    U_M_1 = np.append(U_M_1, f(b))\n",
    "    return U_M_1"
   ]
  },
  {
   "cell_type": "code",
   "execution_count": 3,
   "metadata": {
    "collapsed": true
   },
   "outputs": [],
   "source": [
    "def real_solution(x,t):\n",
    "    return np.sin(2*np.pi*x) * np.cos(2*np.pi*t)"
   ]
  },
  {
   "cell_type": "code",
   "execution_count": 4,
   "metadata": {
    "collapsed": false
   },
   "outputs": [
    {
     "name": "stdout",
     "output_type": "stream",
     "text": [
      "[  0.00000000e+00  -9.39116409e-01  -5.80405860e-01   5.80405860e-01\n",
      "   9.39116409e-01  -2.44929360e-16]\n",
      "------------------------------\n",
      "[ -0.00000000e+00  -9.51056516e-01  -5.87785252e-01   5.87785252e-01\n",
      "   9.51056516e-01   2.44929360e-16]\n"
     ]
    }
   ],
   "source": [
    "lmbda = .2\n",
    "J, M = 5, 5\n",
    "a, b = 0, 1\n",
    "t = .5\n",
    "s = 1\n",
    "f = lambda x: np.sin(2*np.pi*x)\n",
    "g = lambda x: 0.0 * x\n",
    "\n",
    "print solve(J, M, t, f, g, a, b, s, iters=None)\n",
    "print \"-\"*30\n",
    "x = np.linspace(0,1,6)\n",
    "print real_solution(x,.5)"
   ]
  },
  {
   "cell_type": "markdown",
   "metadata": {},
   "source": [
    "## Problem 2"
   ]
  },
  {
   "cell_type": "code",
   "execution_count": 20,
   "metadata": {
    "collapsed": true
   },
   "outputs": [],
   "source": [
    "def anim(J, M, t, f, g, a, b, s): \n",
    "    x = np.linspace(a, b, J+1)\n",
    "    y = np.array([f(k) for k in x])\n",
    "        \n",
    "    my_fig = plt.figure()\n",
    "    plt.axes(xlim=(a,b), ylim=(-t,t))\n",
    "    line, = plt.plot([], [])\n",
    "    \n",
    "    def animate(i):\n",
    "        line.set_data(x, solve(J, M, t, f, g, a, b, s, iters=i))\n",
    "        return line,\n",
    "    \n",
    "    an = animation.FuncAnimation(my_fig, animate, frames=y.size, interval=20)\n",
    "    plt.show()"
   ]
  },
  {
   "cell_type": "code",
   "execution_count": 6,
   "metadata": {
    "collapsed": true
   },
   "outputs": [],
   "source": [
    "J = 200\n",
    "t = 1.\n",
    "s = 1.\n",
    "a = 0\n",
    "b = 1.\n",
    "m = 20\n",
    "\n",
    "f = lambda x: .2 * np.exp(-1*m**2*(x-.5)**2)\n",
    "g = lambda x: -.4 * m**2 * (x-.5) * np.exp((-1*m**2)*(x-.5)**2)"
   ]
  },
  {
   "cell_type": "code",
   "execution_count": 7,
   "metadata": {
    "collapsed": false
   },
   "outputs": [],
   "source": [
    "anim(J, 220, t, f, g, a, b, s)\n",
    "anim(J, 180, t, f, g, a, b, s)"
   ]
  },
  {
   "cell_type": "markdown",
   "metadata": {},
   "source": [
    "## Problem 3"
   ]
  },
  {
   "cell_type": "code",
   "execution_count": 8,
   "metadata": {
    "collapsed": true
   },
   "outputs": [],
   "source": [
    "m = 20\n",
    "f = lambda x: .2*np.exp(-1*m**2*(x-.5)**2)\n",
    "g = lambda x: 0.0 * m"
   ]
  },
  {
   "cell_type": "code",
   "execution_count": 9,
   "metadata": {
    "collapsed": false
   },
   "outputs": [],
   "source": [
    "anim(200, 440, 2, f, g, 0, 1, 1)"
   ]
  },
  {
   "cell_type": "markdown",
   "metadata": {},
   "source": [
    "## Problem 4"
   ]
  },
  {
   "cell_type": "code",
   "execution_count": 10,
   "metadata": {
    "collapsed": true
   },
   "outputs": [],
   "source": [
    "def f(x):\n",
    "    if (5/11 < x) and x < (6/11):\n",
    "        return 1/3\n",
    "    else:\n",
    "        return 0\n",
    "\n",
    "g = lambda x: 0"
   ]
  },
  {
   "cell_type": "code",
   "execution_count": 11,
   "metadata": {
    "collapsed": false
   },
   "outputs": [],
   "source": [
    "anim(200, 440, 2, f, g, 0, 1, 1)"
   ]
  },
  {
   "cell_type": "markdown",
   "metadata": {},
   "source": [
    "## Problem 5"
   ]
  },
  {
   "cell_type": "code",
   "execution_count": 44,
   "metadata": {
    "collapsed": true
   },
   "outputs": [],
   "source": [
    "def crank_nicol(f, J, M, xa, xb, ta, tb, nu, iters=M-1):\n",
    "    del_t = float(tb-ta) / M\n",
    "    del_x = float(xb-xa) / J\n",
    "    \n",
    "    k_1 = del_t / (4*del_x)\n",
    "    k_2 = del_t / (2*del_x**2)\n",
    "    \n",
    "    x_val = np.linspace(xa,xb,J+1)\n",
    "    U_0 = f(x_val)\n",
    "    \n",
    "    def new_U_maker(x):\n",
    "        ph = np.zeros_like(U_0)\n",
    "        ph[1:-1]= x[1:-1] - U_0[1:-1] - k_1*((s-x[1:-1])*(x[2:]-x[:-2]) + \\\n",
    "        (s-U_0[1:-1])*(U_0[2:] - U_0[:-2])) - k_2*((x[2:]-2*x[1:-1]+x[:-2])+\\\n",
    "        (U_0[2:]-2*U_0[1:-1]+U_0[:-2]))\n",
    "        \n",
    "        ph[0] = x[0]-U_0[0]\n",
    "        ph[-1] = x[-1]-U_0[-1]\n",
    "        \n",
    "        return ph\n",
    "    \n",
    "    for i in xrange(iters):\n",
    "        U_0 = opt.fsolve(new_U_maker, np.zeros(J+1))\n",
    "        \n",
    "    return U_0"
   ]
  },
  {
   "cell_type": "code",
   "execution_count": 45,
   "metadata": {
    "collapsed": true
   },
   "outputs": [],
   "source": [
    "def crank_animation(J, M, f, xa, xb, ta, tb):\n",
    "    x = np.linspace(xa, xb, J+1)\n",
    "    y = np.array([f(k) for k in x])\n",
    "    an_fig = plt.figure()\n",
    "    plt.axes(xlim=(xa,xb), ylim=(0,6))\n",
    "    line, = plt.plot([], [])\n",
    "    \n",
    "    def animate(i):\n",
    "        line.set_data(x, crank_nicol(f, J, M, xa, xb, ta, tb, nu, iters=i))\n",
    "        return line,\n",
    "  \n",
    "    ans = animation.FuncAnimation(an_fig, animate, frames=y.size, interval=20)\n",
    "    plt.show()"
   ]
  },
  {
   "cell_type": "code",
   "execution_count": 46,
   "metadata": {
    "collapsed": true
   },
   "outputs": [],
   "source": [
    "delta = 0.\n",
    "u_minus = 5.\n",
    "u_plus = 1.\n",
    "a = (u_minus - u_plus)/2.\n",
    "s = (u_minus+u_plus)/2.\n",
    "nu = 1.\n",
    "xa, xb = -20, 20\n",
    "ta, tb = 0., 1.0\n",
    "J = 150\n",
    "M = 350\n",
    "\n",
    "u_hat = lambda x: s-a * np.tanh(a*x/float(2*nu) + delta)\n",
    "v = lambda x: 3.5 * (np.sin(3*x)+1) * (1/np.sqrt(2*np.pi)) * np.exp(-x**2/2)\n",
    "f = lambda x: u_hat(x) + v(x)"
   ]
  },
  {
   "cell_type": "code",
   "execution_count": 47,
   "metadata": {
    "collapsed": false
   },
   "outputs": [],
   "source": [
    "crank_animation(J, M, f, xa, xb, ta, tb)"
   ]
  }
 ],
 "metadata": {
  "kernelspec": {
   "display_name": "Python 2",
   "language": "python",
   "name": "python2"
  },
  "language_info": {
   "codemirror_mode": {
    "name": "ipython",
    "version": 2
   },
   "file_extension": ".py",
   "mimetype": "text/x-python",
   "name": "python",
   "nbconvert_exporter": "python",
   "pygments_lexer": "ipython2",
   "version": "2.7.10"
  }
 },
 "nbformat": 4,
 "nbformat_minor": 0
}
