{
 "cells": [
  {
   "cell_type": "code",
   "execution_count": 8,
   "metadata": {},
   "outputs": [
    {
     "name": "stdout",
     "output_type": "stream",
     "text": [
      "[[ -2 -14   4]\n [-12   0  -4]\n [ -4  -9  -4]]\n"
     ]
    }
   ],
   "source": [
    "# 1\n",
    "import numpy as np\n",
    "\n",
    "A = np.array([[2, 4, 0], [-3, 1, -1], [0, 3, 2]])\n",
    "B = np.array([[3, -1, 2], [-2, -3, 0], [1, 0, -2]])\n",
    "C = np.dot(A, B)\n",
    "print C"
   ]
  },
  {
   "cell_type": "code",
   "execution_count": 9,
   "metadata": {},
   "outputs": [
    {
     "name": "stdout",
     "output_type": "stream",
     "text": [
      "[[0 0 4]\n",
      " [0 0 0]\n",
      " [0 0 0]]\n"
     ]
    }
   ],
   "source": [
    "# 2\n",
    "def makeArrayPositive(myArray):\n",
    "    myArray[myArray<0] = 0\n",
    "    \n",
    "makeArrayPositive(C)\n",
    "print C"
   ]
  },
  {
   "cell_type": "code",
   "execution_count": 13,
   "metadata": {},
   "outputs": [],
   "source": [
    "# 3\n",
    "# What does it return??\n",
    "def problem3(n):\n",
    "    A = np.random.rand(n, n)\n",
    "    meanArray = A.mean(axis=0)\n",
    "    variance = meanArray.var()\n",
    "    print A\n",
    "    print meanArray\n",
    "    print variance"
   ]
  },
  {
   "cell_type": "code",
   "execution_count": 2,
   "metadata": {},
   "outputs": [],
   "source": [
    "import numpy as np\n",
    "\n",
    "def laplace(myArray, tolerance):\n",
    "    myArrayCopy = np.copy(myArray)\n",
    "    arrayDiff = tolerance\n",
    "    while arrayDiff >= tolerance:\n",
    "        myArrayCopy[1:-1, 1:-1] = (myArrayCopy[:-2, 1:-1] + myArrayCopy[1:-1, 2:]) / 4.0\n",
    "        myArray = myArrayCopy - myArray\n",
    "        myArray = np.absolute(myArray)\n",
    "        arrayDiff = myArray.max()\n",
    "        myArray = myArrayCopy\n",
    "        \n",
    "from matplotlib import pyplot as plt\n",
    "from mpl_toolkits.mplot3d import Axes3D\n",
    "n = 100\n",
    "tol = .0001\n",
    "U = np.ones ((n, n))\n",
    "U [:,0] = 100 # sets west boundary condition\n",
    "U [:,-1] = 100 # sets east boundary condition\n",
    "U [0] = 0 # sets north boundary condition\n",
    "U [-1] = 0 # sets south boundary condition\n",
    "# U has been changed in place (note that laplace is the name of\n",
    "# the function in this case).\n",
    "laplace(U, tol)\n",
    "x = np.linspace(0, 1, n)\n",
    "y = np.linspace(0, 1, n)\n",
    "X, Y = np.meshgrid(x, y)\n",
    "fig = plt.figure()\n",
    "ax = fig.gca(projection = '3d')\n",
    "ax.plot_surface (X, Y, U, rstride=5)\n",
    "plt.show()"
   ]
  },
  {
   "cell_type": "code",
   "execution_count": 4,
   "metadata": {},
   "outputs": [
    {
     "data": {
      "text/plain": [
       "'\\noriginal, blue = blue_shift()\\noriginal = 255 - original\\nblue = 255 - blue\\nplt.subplot(1,2,1)\\nplt.imshow(original)\\nplt.subplot(1,2,2)\\nplt.imshow(blue)\\nplt.show()\\n'"
      ]
     },
     "execution_count": 4,
     "output_type": "execute_result",
     "metadata": {}
    }
   ],
   "source": [
    "import numpy as np\n",
    "\n",
    "myArray = np.random.randint(255, size=(100, 100, 3))\n",
    "def blue_shift(myArray):\n",
    "    mult = np.array([.5, .5, 1.0])\n",
    "    mult.reshape(3, 1, 1)\n",
    "    return myArray * mult\n",
    "\n",
    "blue_shift(myArray)\n",
    "    \n",
    "original, blue = blue_shift()\n",
    "original = 255 - original\n",
    "blue = 255 - blue\n",
    "plt.subplot(1,2,1)\n",
    "plt.imshow(original)\n",
    "plt.subplot(1,2,2)\n",
    "plt.imshow(blue)\n",
    "plt.show()"
   ]
  },
  {
   "cell_type": "code",
   "execution_count": null,
   "metadata": {},
   "outputs": [],
   "source": [
    ""
   ]
  }
 ],
 "metadata": {
  "kernelspec": {
   "display_name": "Python 2",
   "language": "python",
   "name": "python2"
  },
  "language_info": {
   "codemirror_mode": {
    "name": "ipython",
    "version": 2.0
   },
   "file_extension": ".py",
   "mimetype": "text/x-python",
   "name": "python",
   "nbconvert_exporter": "python",
   "pygments_lexer": "ipython2",
   "version": "2.7.10"
  }
 },
 "nbformat": 4,
 "nbformat_minor": 0
}