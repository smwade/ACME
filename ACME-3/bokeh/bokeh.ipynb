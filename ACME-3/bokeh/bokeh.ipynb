{
 "cells": [
  {
   "cell_type": "markdown",
   "metadata": {},
   "source": [
    "# Exploring Bokeh\n",
    "Sean Wade"
   ]
  },
  {
   "cell_type": "code",
   "execution_count": 1,
   "metadata": {
    "collapsed": false
   },
   "outputs": [],
   "source": [
    "import pickle\n",
    "import os\n",
    "import numpy as np\n",
    "import pandas as pd\n",
    "from bokeh.plotting import figure, output_notebook, output_file, show, Figure\n",
    "from bokeh.models import HoverTool, ColumnDataSource, WMTSTileSource\n",
    "from pyproj import Proj, transform\n",
    "import warnings\n",
    "from __future__ import division\n",
    "warnings.filterwarnings('ignore')"
   ]
  },
  {
   "cell_type": "code",
   "execution_count": 2,
   "metadata": {
    "collapsed": false,
    "scrolled": true
   },
   "outputs": [],
   "source": [
    "%matplotlib inline"
   ]
  },
  {
   "cell_type": "markdown",
   "metadata": {},
   "source": [
    "## Problem 1"
   ]
  },
  {
   "cell_type": "code",
   "execution_count": 3,
   "metadata": {
    "collapsed": false
   },
   "outputs": [],
   "source": [
    "# Import the data\n",
    "path = './fars_data/Accidents/'\n",
    "accidents_list = []\n",
    "for i, name in enumerate(os.listdir(path)):\n",
    "    with open(os.path.join(path, name)) as inFile:\n",
    "        accidents_list.append(pickle.load(inFile))\n",
    "        \n",
    "path = './fars_data/Person/'\n",
    "person_list = []\n",
    "for i, name in enumerate(os.listdir(path)):\n",
    "    with open(os.path.join(path, name)) as inFile:\n",
    "        person_list.append(pickle.load(inFile))\n",
    "        \n",
    "path = './fars_data/Vehicle/'\n",
    "vehicle_list = []\n",
    "for i, name in enumerate(os.listdir(path)):\n",
    "    with open(os.path.join(path, name)) as inFile:\n",
    "        vehicle_list.append(pickle.load(inFile))\n",
    "        \n",
    "with open('Pickle/id_to_state.pickle') as pickelObj:\n",
    "    id_to_state = pickle.load(pickelObj)\n",
    "\n",
    "with open('Pickle/us_states.pickle') as pickelObj:\n",
    "    us_states = pickle.load(pickelObj)"
   ]
  },
  {
   "cell_type": "code",
   "execution_count": 4,
   "metadata": {
    "collapsed": false
   },
   "outputs": [],
   "source": [
    "a_list = []\n",
    "\n",
    "for i in xrange(len(accidents_list)):\n",
    "    a, v = accidents_list[i], vehicle_list[i]\n",
    "    \n",
    "    # Remove unecissary columns\n",
    "    v = v[[\"ST_CASE\", \"SPEEDREL\"]]\n",
    "    a = a[[\"ST_CASE\", \"STATE\", \"LATITUDE\", \"LONGITUD\", \"FATALS\", \"HOUR\", \"DAY\", \"MONTH\", \"YEAR\", \"DRUNK_DR\"]]\n",
    "\n",
    "    # drop null vals\n",
    "    a[\"LONGITUD\"] = a[\"LONGITUD\"].replace([777.7777, 888.8888, 999.9999], np.nan)\n",
    "    a[\"LATITUDE\"] = a[\"LATITUDE\"].replace([77.7777, 88.8888, 99.9999], np.nan)\n",
    "    a = a.dropna()\n",
    "\n",
    "    # Write state string\n",
    "    a[\"STATE\"] = a[\"STATE\"].replace(0, 49)\n",
    "    a[\"STATE\"] = [id_to_state[x] for x in a[\"STATE\"]]\n",
    "\n",
    "    # Combine accedents and vehical dataFrames\n",
    "    v[\"SPEEDREL\"] = np.where((v[\"SPEEDREL\"] >= 8), 0, v[\"SPEEDREL\"])\n",
    "    c = pd.merge(a, v, on=\"ST_CASE\")\n",
    "\n",
    "    # Create speeding column\n",
    "    a[\"SPEEDING\"] = c.groupby(\"ST_CASE\").sum()[\"SPEEDREL\"].values\n",
    "    a[\"SPEEDING\"] = a[\"SPEEDING\"] != 0\n",
    "    a[\"SPEEDING\"] = a[\"SPEEDING\"].astype(int)\n",
    "    a_list.append(a)\n",
    "    \n",
    "accidents = pd.concat(a_list)"
   ]
  },
  {
   "cell_type": "code",
   "execution_count": 5,
   "metadata": {
    "collapsed": false
   },
   "outputs": [
    {
     "data": {
      "text/html": [
       "<div>\n",
       "<table border=\"1\" class=\"dataframe\">\n",
       "  <thead>\n",
       "    <tr style=\"text-align: right;\">\n",
       "      <th></th>\n",
       "      <th>ST_CASE</th>\n",
       "      <th>STATE</th>\n",
       "      <th>LATITUDE</th>\n",
       "      <th>LONGITUD</th>\n",
       "      <th>FATALS</th>\n",
       "      <th>HOUR</th>\n",
       "      <th>DAY</th>\n",
       "      <th>MONTH</th>\n",
       "      <th>YEAR</th>\n",
       "      <th>DRUNK_DR</th>\n",
       "      <th>SPEEDING</th>\n",
       "    </tr>\n",
       "  </thead>\n",
       "  <tbody>\n",
       "    <tr>\n",
       "      <th>0</th>\n",
       "      <td>10001</td>\n",
       "      <td>AL</td>\n",
       "      <td>32.641064</td>\n",
       "      <td>-85.354692</td>\n",
       "      <td>1</td>\n",
       "      <td>4</td>\n",
       "      <td>15</td>\n",
       "      <td>1</td>\n",
       "      <td>2010</td>\n",
       "      <td>1</td>\n",
       "      <td>0</td>\n",
       "    </tr>\n",
       "    <tr>\n",
       "      <th>1</th>\n",
       "      <td>10002</td>\n",
       "      <td>AL</td>\n",
       "      <td>31.430447</td>\n",
       "      <td>-86.956694</td>\n",
       "      <td>1</td>\n",
       "      <td>6</td>\n",
       "      <td>11</td>\n",
       "      <td>1</td>\n",
       "      <td>2010</td>\n",
       "      <td>0</td>\n",
       "      <td>0</td>\n",
       "    </tr>\n",
       "    <tr>\n",
       "      <th>2</th>\n",
       "      <td>10003</td>\n",
       "      <td>AL</td>\n",
       "      <td>30.691631</td>\n",
       "      <td>-88.085778</td>\n",
       "      <td>1</td>\n",
       "      <td>15</td>\n",
       "      <td>14</td>\n",
       "      <td>1</td>\n",
       "      <td>2010</td>\n",
       "      <td>0</td>\n",
       "      <td>1</td>\n",
       "    </tr>\n",
       "    <tr>\n",
       "      <th>3</th>\n",
       "      <td>10004</td>\n",
       "      <td>AL</td>\n",
       "      <td>33.868700</td>\n",
       "      <td>-86.291164</td>\n",
       "      <td>1</td>\n",
       "      <td>1</td>\n",
       "      <td>21</td>\n",
       "      <td>1</td>\n",
       "      <td>2010</td>\n",
       "      <td>0</td>\n",
       "      <td>0</td>\n",
       "    </tr>\n",
       "    <tr>\n",
       "      <th>4</th>\n",
       "      <td>10005</td>\n",
       "      <td>AL</td>\n",
       "      <td>33.309742</td>\n",
       "      <td>-86.787222</td>\n",
       "      <td>1</td>\n",
       "      <td>6</td>\n",
       "      <td>4</td>\n",
       "      <td>1</td>\n",
       "      <td>2010</td>\n",
       "      <td>0</td>\n",
       "      <td>0</td>\n",
       "    </tr>\n",
       "  </tbody>\n",
       "</table>\n",
       "</div>"
      ],
      "text/plain": [
       "   ST_CASE STATE   LATITUDE   LONGITUD  FATALS  HOUR  DAY  MONTH  YEAR  \\\n",
       "0    10001    AL  32.641064 -85.354692       1     4   15      1  2010   \n",
       "1    10002    AL  31.430447 -86.956694       1     6   11      1  2010   \n",
       "2    10003    AL  30.691631 -88.085778       1    15   14      1  2010   \n",
       "3    10004    AL  33.868700 -86.291164       1     1   21      1  2010   \n",
       "4    10005    AL  33.309742 -86.787222       1     6    4      1  2010   \n",
       "\n",
       "   DRUNK_DR  SPEEDING  \n",
       "0         1         0  \n",
       "1         0         0  \n",
       "2         0         1  \n",
       "3         0         0  \n",
       "4         0         0  "
      ]
     },
     "execution_count": 5,
     "metadata": {},
     "output_type": "execute_result"
    }
   ],
   "source": [
    "accidents.head()"
   ]
  },
  {
   "cell_type": "code",
   "execution_count": 6,
   "metadata": {
    "collapsed": false
   },
   "outputs": [
    {
     "name": "stdout",
     "output_type": "stream",
     "text": [
      "Speeding: 44223\n",
      "Length: 149698\n"
     ]
    }
   ],
   "source": [
    "print \"Speeding: %d\" % accidents[\"SPEEDING\"].sum()\n",
    "print \"Length: %d\" % len(accidents)"
   ]
  },
  {
   "cell_type": "markdown",
   "metadata": {},
   "source": [
    "## Problem 2"
   ]
  },
  {
   "cell_type": "code",
   "execution_count": 7,
   "metadata": {
    "collapsed": false
   },
   "outputs": [],
   "source": [
    "def convert(longitudes, latitudes):\n",
    "    \"\"\"Converts latlon coordinates to meters.\n",
    "    Inputs:\n",
    "    longitudes (array-like) : array of longitudes\n",
    "    latitudes (array-like) : array of latitudes\n",
    "    Example:\n",
    "    x,y = convert(accidents.LONGITUD, accidents.LATITUDE)\n",
    "    \"\"\"\n",
    "    from_proj = Proj(init=\"epsg:4326\")\n",
    "    to_proj = Proj(init=\"epsg:3857\")\n",
    "    \n",
    "    x_vals = []\n",
    "    y_vals = []\n",
    "    for lon, lat in zip(longitudes, latitudes):\n",
    "        x, y = transform(from_proj, to_proj, lon, lat)\n",
    "        x_vals.append(x)\n",
    "        y_vals.append(y)\n",
    "    return x_vals, y_vals\n",
    "\n",
    "accidents[\"x\"], accidents[\"y\"] = convert(accidents.LONGITUD, accidents.LATITUDE)"
   ]
  },
  {
   "cell_type": "markdown",
   "metadata": {},
   "source": [
    "## Problem 3\n"
   ]
  },
  {
   "cell_type": "code",
   "execution_count": 8,
   "metadata": {
    "collapsed": false
   },
   "outputs": [],
   "source": [
    "d_list = []\n",
    "for i in xrange(len(person_list)):\n",
    "    p = person_list[i]\n",
    "    v = vehicle_list[i]\n",
    "    p = p[[\"ST_CASE\", \"VEH_NO\", \"PER_TYP\", \"AGE\", \"DRINKING\"]]\n",
    "    v = v[[\"SPEEDREL\", \"ST_CASE\", \"VEH_NO\",]]\n",
    "    d = pd.merge(p, v, on=[\"ST_CASE\", \"VEH_NO\"])\n",
    "    d[\"YEAR\"] = 2010\n",
    "    d_list.append(d)\n",
    "    \n",
    "drivers = pd.concat(d_list)"
   ]
  },
  {
   "cell_type": "code",
   "execution_count": 9,
   "metadata": {
    "collapsed": false
   },
   "outputs": [
    {
     "data": {
      "text/html": [
       "<div>\n",
       "<table border=\"1\" class=\"dataframe\">\n",
       "  <thead>\n",
       "    <tr style=\"text-align: right;\">\n",
       "      <th></th>\n",
       "      <th>ST_CASE</th>\n",
       "      <th>VEH_NO</th>\n",
       "      <th>PER_TYP</th>\n",
       "      <th>AGE</th>\n",
       "      <th>DRINKING</th>\n",
       "      <th>SPEEDREL</th>\n",
       "      <th>YEAR</th>\n",
       "    </tr>\n",
       "  </thead>\n",
       "  <tbody>\n",
       "    <tr>\n",
       "      <th>0</th>\n",
       "      <td>10001</td>\n",
       "      <td>1</td>\n",
       "      <td>1</td>\n",
       "      <td>51</td>\n",
       "      <td>9</td>\n",
       "      <td>0</td>\n",
       "      <td>2010</td>\n",
       "    </tr>\n",
       "    <tr>\n",
       "      <th>1</th>\n",
       "      <td>10001</td>\n",
       "      <td>1</td>\n",
       "      <td>2</td>\n",
       "      <td>999</td>\n",
       "      <td>8</td>\n",
       "      <td>0</td>\n",
       "      <td>2010</td>\n",
       "    </tr>\n",
       "    <tr>\n",
       "      <th>2</th>\n",
       "      <td>10002</td>\n",
       "      <td>1</td>\n",
       "      <td>1</td>\n",
       "      <td>44</td>\n",
       "      <td>0</td>\n",
       "      <td>0</td>\n",
       "      <td>2010</td>\n",
       "    </tr>\n",
       "    <tr>\n",
       "      <th>3</th>\n",
       "      <td>10003</td>\n",
       "      <td>1</td>\n",
       "      <td>1</td>\n",
       "      <td>27</td>\n",
       "      <td>9</td>\n",
       "      <td>1</td>\n",
       "      <td>2010</td>\n",
       "    </tr>\n",
       "    <tr>\n",
       "      <th>4</th>\n",
       "      <td>10003</td>\n",
       "      <td>2</td>\n",
       "      <td>1</td>\n",
       "      <td>45</td>\n",
       "      <td>0</td>\n",
       "      <td>0</td>\n",
       "      <td>2010</td>\n",
       "    </tr>\n",
       "  </tbody>\n",
       "</table>\n",
       "</div>"
      ],
      "text/plain": [
       "   ST_CASE  VEH_NO  PER_TYP  AGE  DRINKING  SPEEDREL  YEAR\n",
       "0    10001       1        1   51         9         0  2010\n",
       "1    10001       1        2  999         8         0  2010\n",
       "2    10002       1        1   44         0         0  2010\n",
       "3    10003       1        1   27         9         1  2010\n",
       "4    10003       2        1   45         0         0  2010"
      ]
     },
     "execution_count": 9,
     "metadata": {},
     "output_type": "execute_result"
    }
   ],
   "source": [
    "drivers.head()"
   ]
  },
  {
   "cell_type": "markdown",
   "metadata": {},
   "source": [
    "## Problem 4"
   ]
  },
  {
   "cell_type": "code",
   "execution_count": 10,
   "metadata": {
    "collapsed": false
   },
   "outputs": [],
   "source": [
    "fig = Figure(plot_width=1100, plot_height=650,\n",
    "    x_range=(-13000000, -7000000), y_range=(2750000, 6250000),\n",
    "    tools=[\"wheel_zoom\", \"pan\"], active_scroll=\"wheel_zoom\", webgl=True)\n",
    "\n",
    "fig.axis.visible = False\n",
    "\n",
    "STAMEN_TONER_BACKGROUND = WMTSTileSource(\n",
    "url='http://tile.stamen.com/toner-background/{Z}/{X}/{Y}.png',\n",
    "attribution=(\n",
    "'Map tiles by <a href=\"http://stamen.com\">Stamen Design</a>, '\n",
    "'under <a href=\"http://creativecommons.org/licenses/by/3.0\">CC BY 3.0</a>.'\n",
    "'Data by <a href=\"http://openstreetmap.org\">OpenStreetMap</a>, '\n",
    "'under <a href=\"http://www.openstreetmap.org/copyright\">ODbL</a>')\n",
    ")\n",
    "fig.add_tile(STAMEN_TONER_BACKGROUND)\n",
    "\n",
    "show(fig)"
   ]
  },
  {
   "cell_type": "markdown",
   "metadata": {},
   "source": [
    "## Problem 5"
   ]
  },
  {
   "cell_type": "code",
   "execution_count": 11,
   "metadata": {
    "collapsed": false
   },
   "outputs": [],
   "source": [
    "state_xs = [us_states[code][\"lons\"] for code in us_states]\n",
    "state_ys = [us_states[code][\"lats\"] for code in us_states]"
   ]
  },
  {
   "cell_type": "code",
   "execution_count": 12,
   "metadata": {
    "collapsed": true
   },
   "outputs": [],
   "source": [
    "x_vals, y_vals = [], []\n",
    "x_vals, y_vals = convert(state_xs, state_ys)"
   ]
  },
  {
   "cell_type": "code",
   "execution_count": 13,
   "metadata": {
    "collapsed": true
   },
   "outputs": [],
   "source": [
    "speeding_accidents = accidents[accidents[\"SPEEDING\"] != 0]\n",
    "drinking_accidents = accidents[accidents[\"DRUNK_DR\"] != 0]\n",
    "other_accidents = accidents[(accidents[\"DRUNK_DR\"] == 0) & (accidents[\"SPEEDING\"] == 0)]"
   ]
  },
  {
   "cell_type": "code",
   "execution_count": 14,
   "metadata": {
    "collapsed": false
   },
   "outputs": [],
   "source": [
    "total_acc = [len(accidents[accidents['STATE']==state_code]) for state_code in us_states]\n",
    "total_drunk = [len(drinking_accidents[drinking_accidents[\"STATE\"]==state_code]) for state_code in us_states]\n",
    "total_speeding = [len(speeding_accidents[speeding_accidents[\"STATE\"]==state_code]) for state_code in us_states]\n",
    "\n",
    "perc_drunk = [a / b for a, b in zip(total_drunk, total_acc)]\n",
    "perc_speeding = [a / b for a, b in zip(total_speeding, total_acc)]\n",
    "\n",
    "# convert to strings for tooltip\n",
    "total = [str(x) for x in total_acc]\n",
    "perc_drunk = [str(x*100)[:4]+\"%\" for x in perc_drunk]\n",
    "perc_speeding = [str(x*100)[:4]+\"%\" for x in perc_speeding]\n",
    "\n",
    "border_source = ColumnDataSource(dict(\n",
    "        xs=x_vals, \n",
    "        ys=y_vals,\n",
    "        total=total_acc,\n",
    "        state = us_states.keys(),\n",
    "        perc_drunk = perc_drunk,\n",
    "        perc_speeding = perc_speeding\n",
    "    ))"
   ]
  },
  {
   "cell_type": "code",
   "execution_count": 15,
   "metadata": {
    "collapsed": false
   },
   "outputs": [],
   "source": [
    "states = fig.patches(\"xs\", \"ys\", source=border_source, alpha=.5, line_color=\"red\", hover_color=\"green\", hover_alpha=.8, hover_line_color='black')"
   ]
  },
  {
   "cell_type": "code",
   "execution_count": 16,
   "metadata": {
    "collapsed": false
   },
   "outputs": [],
   "source": [
    "show(fig)"
   ]
  },
  {
   "cell_type": "markdown",
   "metadata": {},
   "source": [
    "## Problem 6"
   ]
  },
  {
   "cell_type": "code",
   "execution_count": 17,
   "metadata": {
    "collapsed": false
   },
   "outputs": [
    {
     "data": {
      "text/plain": [
       "<bokeh.models.renderers.GlyphRenderer at 0x14fc03e50>"
      ]
     },
     "execution_count": 17,
     "metadata": {},
     "output_type": "execute_result"
    }
   ],
   "source": [
    "speeding_source = ColumnDataSource(dict(\n",
    "    x=speeding_accidents['x'],\n",
    "    y=speeding_accidents['y'] ))\n",
    "\n",
    "drinking_source = ColumnDataSource(dict(\n",
    "    x=drinking_accidents['x'],\n",
    "    y=drinking_accidents['y'] ))\n",
    "\n",
    "other_source = ColumnDataSource(dict(\n",
    "    x=other_accidents['x'],\n",
    "    y=other_accidents['y'] ))\n",
    "\n",
    "fig.circle('x', 'y', source=speeding_source, fill_color=\"red\", size=2, line_color=\"red\")\n",
    "fig.circle('x', 'y', source=drinking_source, fill_color=\"green\", size=2, line_color=\"green\")\n",
    "fig.circle('x', 'y', source=other_source, fill_color=\"blue\", size=2, line_color=\"blue\")"
   ]
  },
  {
   "cell_type": "code",
   "execution_count": 18,
   "metadata": {
    "collapsed": false
   },
   "outputs": [],
   "source": [
    "show(fig)"
   ]
  },
  {
   "cell_type": "markdown",
   "metadata": {},
   "source": [
    "## Problem 7\n",
    "Done above..."
   ]
  },
  {
   "cell_type": "markdown",
   "metadata": {},
   "source": [
    "## Problem 8"
   ]
  },
  {
   "cell_type": "markdown",
   "metadata": {},
   "source": [
    "Done in problem 5..."
   ]
  },
  {
   "cell_type": "markdown",
   "metadata": {},
   "source": [
    "## Problem 9"
   ]
  },
  {
   "cell_type": "code",
   "execution_count": 19,
   "metadata": {
    "collapsed": true
   },
   "outputs": [],
   "source": [
    "fig.add_tools(HoverTool(renderers=[states], tooltips=[(\"State\", \"@state\"), (\"Total\", \"@total\"), (\"Drunk Percent\", \"@perc_drunk\"), (\"Speeding Percent\",  \"@perc_speeding\")]))"
   ]
  },
  {
   "cell_type": "code",
   "execution_count": 20,
   "metadata": {
    "collapsed": false
   },
   "outputs": [],
   "source": [
    "show(fig)"
   ]
  },
  {
   "cell_type": "markdown",
   "metadata": {},
   "source": [
    "## Problem 10\n",
    "this is the bokeh_problem10.py file"
   ]
  },
  {
   "cell_type": "code",
   "execution_count": null,
   "metadata": {
    "collapsed": true
   },
   "outputs": [],
   "source": []
  }
 ],
 "metadata": {
  "kernelspec": {
   "display_name": "Python 2",
   "language": "python",
   "name": "python2"
  },
  "language_info": {
   "codemirror_mode": {
    "name": "ipython",
    "version": 2
   },
   "file_extension": ".py",
   "mimetype": "text/x-python",
   "name": "python",
   "nbconvert_exporter": "python",
   "pygments_lexer": "ipython2",
   "version": "2.7.13"
  }
 },
 "nbformat": 4,
 "nbformat_minor": 0
}
