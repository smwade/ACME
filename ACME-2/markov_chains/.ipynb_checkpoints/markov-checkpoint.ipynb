{
 "cells": [
  {
   "cell_type": "markdown",
   "metadata": {},
   "source": [
    "# Markov Chains\n",
    "## Sean Wade"
   ]
  },
  {
   "cell_type": "code",
   "execution_count": 9,
   "metadata": {
    "collapsed": true
   },
   "outputs": [],
   "source": [
    "import numpy as np\n",
    "import scipy as sp"
   ]
  },
  {
   "cell_type": "code",
   "execution_count": 30,
   "metadata": {
    "collapsed": true
   },
   "outputs": [],
   "source": [
    "def random_markov(n):\n",
    "    \"\"\"Create and return a transition matrix for a random\n",
    "    Markov chain with 'n' states as an nxn NumPy array.\n",
    "    \"\"\"\n",
    "    A = np.random.dirichlet(np.ones(n),size=n)\n",
    "    return A.T"
   ]
  },
  {
   "cell_type": "code",
   "execution_count": 31,
   "metadata": {
    "collapsed": true
   },
   "outputs": [],
   "source": [
    "def two_state_forecast(num_days, transition_matrix = np.array([[0.7, 0.6], [0.3, 0.4]])):\n",
    "    \"\"\"Run a simulation for the weather over 'num_days' days, with\n",
    "    \"hot\" as the starting state. Return a list containing the day-by-day\n",
    "    results, not including the starting day.\n",
    "\n",
    "    Example:\n",
    "        >>> forecast(5)\n",
    "        [1, 0, 0, 1, 0]\n",
    "    \"\"\"\n",
    "    cur_day = 0\n",
    "    forecast = []\n",
    "    for x in xrange(0, num_days):\n",
    "        r = np.random.random()\n",
    "        if r < tran_matrix[1][cur_day]:\n",
    "            forecast.append(1)\n",
    "            cur_day = 1\n",
    "        else:\n",
    "            forecast.append(0)\n",
    "            cur_day = 0\n",
    "    return forecast"
   ]
  },
  {
   "cell_type": "code",
   "execution_count": 32,
   "metadata": {
    "collapsed": false
   },
   "outputs": [
    {
     "data": {
      "text/plain": [
       "[0, 0, 3, 3, 2, 1, 1, 0, 1, 1]"
      ]
     },
     "execution_count": 32,
     "metadata": {},
     "output_type": "execute_result"
    }
   ],
   "source": [
    "def four_state_forecast(days=1, tran_matrix = np.array([[.5, .3, .1, 0], [.3, .3, .2, .3], [.2, .3, .4, .5], [0, .1, .2, .2]])):\n",
    "    \"\"\"Same as two_state_forecast(), but using the four-state transition matrix.\"\"\"\n",
    "    cur_day = 0\n",
    "    forecast = []\n",
    "    for x in xrange(0, days):\n",
    "        probabilities = tran_matrix[:][cur_day]\n",
    "        pos = np.random.multinomial(1, probabilities).argmax()\n",
    "        cur_day = pos\n",
    "        forecast.append(pos)\n",
    "    return forecast\n",
    "\n",
    "four_state_forecast(10)\n"
   ]
  },
  {
   "cell_type": "code",
   "execution_count": 33,
   "metadata": {
    "collapsed": false
   },
   "outputs": [
    {
     "name": "stdout",
     "output_type": "stream",
     "text": [
      "The percent of weather\n",
      "====================================\n",
      "Hot: 22.813\n",
      "Mild: 23.346\n",
      "Cold: 22.434\n",
      "Freezing: 31.407\n"
     ]
    }
   ],
   "source": [
    "def analyze_simulation():\n",
    "    \"\"\"Analyze the results of the previous two problems. What percentage\n",
    "    of days are in each state? Print your results to the terminal.\n",
    "    \"\"\"\n",
    "    forecast = four_state_forecast(100000)\n",
    "    total_days = float(len(forecast))\n",
    "    hot = forecast.count(0)\n",
    "    mild = forecast.count(1)\n",
    "    cold = forecast.count(2)\n",
    "    freezing = forecast.count(3)\n",
    "    print \"The percent of weather\"\n",
    "    print \"====================================\"\n",
    "    print \"Hot: %s\" % (hot/total_days * 100)\n",
    "    print \"Mild: %s\" % (mild/total_days * 100)\n",
    "    print \"Cold: %s\" % (cold/total_days * 100)\n",
    "    print \"Freezing: %s\" % (freezing/total_days * 100)\n",
    "\n",
    "analyze_simulation()"
   ]
  },
  {
   "cell_type": "code",
   "execution_count": 49,
   "metadata": {
    "collapsed": false
   },
   "outputs": [
    {
     "ename": "SyntaxError",
     "evalue": "invalid syntax (<ipython-input-49-5ba3d2bce766>, line 53)",
     "output_type": "error",
     "traceback": [
      "\u001b[0;36m  File \u001b[0;32m\"<ipython-input-49-5ba3d2bce766>\"\u001b[0;36m, line \u001b[0;32m53\u001b[0m\n\u001b[0;31m    M = M[:,:-1] / np.sum(M[:,:-1, axis=0)\u001b[0m\n\u001b[0m                                       ^\u001b[0m\n\u001b[0;31mSyntaxError\u001b[0m\u001b[0;31m:\u001b[0m invalid syntax\n"
     ]
    }
   ],
   "source": [
    "def convert(in_file):\n",
    "    \"\"\"A helper function that takes a path to an input .txt file\n",
    "    The file is parse and a file named 'output.txt' is createted with each \n",
    "    word assosiated with its number.  It also returns a set of all the words\n",
    "    in the order in which they occure.\n",
    "    \n",
    "    Example:\n",
    "        >>> convert('input.txt')\n",
    "        ['$start','This','is','a','test','$end']\n",
    "    \"\"\"\n",
    "    lines_list = []\n",
    "    word_dict = {}\n",
    "    words = ['$start']\n",
    "    val_int = 1\n",
    "    with open(in_file, 'r') as my_file:\n",
    "        for line in my_file:\n",
    "            lines_list.append(line)\n",
    "            for word in line.split():\n",
    "                if word.strip() not in word_dict:\n",
    "                    word_dict[word] = val_int\n",
    "                    val_int += 1\n",
    "                    words.append(word)\n",
    "    \n",
    "    # write dictionary numbers to the output.txt file\n",
    "    with open('_temp.txt', 'w') as my_file:\n",
    "        for line in lines_list:\n",
    "            for word in line.split():\n",
    "                my_file.write(str(word_dict[word]) + \" \")\n",
    "            my_file.write('\\n')\n",
    "\n",
    "    words.append('$end')\n",
    "    return words\n",
    "\n",
    "def markov_creator(in_file, num_of_words):\n",
    "    \"\"\"A helper function for sentences().  Takes an input .txt file with the words \n",
    "    tokenized as numbers (see the convert() function).  It also takes the number of words\n",
    "    in the sample file\"\"\"\n",
    "    \n",
    "    M = np.zeros((num_of_words, num_of_words))\n",
    "    start_num = 0\n",
    "    end_num = num_of_words - 1\n",
    "    \n",
    "    with open(in_file, 'r') as my_file:\n",
    "        for line in my_file:\n",
    "            prev = start_num\n",
    "            now = start_num\n",
    "            for num in line.split():\n",
    "                now = int(num.strip())\n",
    "                M[now][prev] += 1\n",
    "                prev = now\n",
    "            M[end_num][now] += 1\n",
    "\n",
    "    M = M[:,:-1] / np.sum(M[:,:-1], axis=0)\n",
    "    \n",
    "    return M"
   ]
  },
  {
   "cell_type": "code",
   "execution_count": 50,
   "metadata": {
    "collapsed": false
   },
   "outputs": [],
   "source": [
    "def sentences(infile, outfile, write=True, num_sentences=1):\n",
    "    \"\"\"Generate random sentences using the word list generated in\n",
    "    Problem 5 and the transition matrix generated in Problem 6.\n",
    "    Write the results to the specified outfile.\n",
    "\n",
    "    Parameters:\n",
    "        infile (str): The path to a filen containing a training set.\n",
    "        outfile (str): The file to write the random sentences to.\n",
    "        num_sentences (int): The number of random sentences to write.\n",
    "        write (bool): Whether or not to write to a file.\n",
    "\n",
    "    Returns:\n",
    "        None\n",
    "    \"\"\"\n",
    "    if write == True:\n",
    "        with open(outfile, 'w') as my_file:\n",
    "            my_file.write(\"MY POEM\\n====================================\\n\")\n",
    "        word_list = convert(infile)\n",
    "        Markov = markov_creator('_temp.txt', len(word_list))\n",
    "        sentence = 1\n",
    "        while sentence <= num_sentences:\n",
    "            result = []\n",
    "            cur = 0\n",
    "            while cur != len(word_list) - 1:\n",
    "                probabilities = Markov[:, cur]\n",
    "                pos = np.random.multinomial(1, probabilities).argmax()\n",
    "                cur = pos\n",
    "                result.append(word_list[pos])\n",
    "            with open(outfile, 'a') as my_file:\n",
    "                my_file.write(' '.join(result[:-1]) + \"\\n\")\n",
    "\n",
    "            sentence += 1\n",
    "    else:\n",
    "        word_list = convert(infile)\n",
    "        Markov = markov_creator('_temp.txt', len(word_list))\n",
    "        sentence = 1\n",
    "        while sentence <= num_sentences:\n",
    "            result = []\n",
    "            cur = 0\n",
    "            while cur != len(word_list) - 1:\n",
    "                probabilities = Markov[:, cur]\n",
    "                pos = np.random.multinomial(1, probabilities).argmax()\n",
    "                cur = pos\n",
    "                result.append(word_list[pos])\n",
    "            print ' '.join(result[:-1]) + '\\n'\n",
    "\n",
    "            sentence += 1"
   ]
  },
  {
   "cell_type": "code",
   "execution_count": 51,
   "metadata": {
    "collapsed": false
   },
   "outputs": [
    {
     "name": "stdout",
     "output_type": "stream",
     "text": [
      "but rejoices with the truth\n",
      "\n",
      "Love is not boast\n",
      "\n",
      "It keeps no record of wrongs\n",
      "\n",
      "Love is not delight in evil\n",
      "\n",
      "always perseveres\n",
      "\n",
      "It is kind\n",
      "\n",
      "Love does not envy It always protects always perseveres\n",
      "\n",
      "It is not boast\n",
      "\n",
      "It is not boast\n",
      "\n",
      "but rejoices with the truth\n",
      "\n"
     ]
    },
    {
     "name": "stderr",
     "output_type": "stream",
     "text": [
      "/Users/seanwade/anaconda/lib/python2.7/site-packages/IPython/kernel/__main__.py:53: RuntimeWarning: invalid value encountered in divide\n"
     ]
    }
   ],
   "source": [
    "sentences('in.txt', 'out.txt', False, 10)"
   ]
  },
  {
   "cell_type": "code",
   "execution_count": null,
   "metadata": {
    "collapsed": true
   },
   "outputs": [],
   "source": []
  }
 ],
 "metadata": {
  "kernelspec": {
   "display_name": "Python 2",
   "language": "python",
   "name": "python2"
  },
  "language_info": {
   "codemirror_mode": {
    "name": "ipython",
    "version": 2
   },
   "file_extension": ".py",
   "mimetype": "text/x-python",
   "name": "python",
   "nbconvert_exporter": "python",
   "pygments_lexer": "ipython2",
   "version": "2.7.10"
  }
 },
 "nbformat": 4,
 "nbformat_minor": 0
}
