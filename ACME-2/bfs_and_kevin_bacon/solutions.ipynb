{
 "cells": [
  {
   "cell_type": "markdown",
   "metadata": {},
   "source": [
    "# Kevin Bacon Problem (BFS)"
   ]
  },
  {
   "cell_type": "markdown",
   "metadata": {},
   "source": [
    "## Sean Wade"
   ]
  },
  {
   "cell_type": "code",
   "execution_count": 15,
   "metadata": {
    "collapsed": true
   },
   "outputs": [],
   "source": [
    "%matplotlib inline"
   ]
  },
  {
   "cell_type": "code",
   "execution_count": 2,
   "metadata": {
    "collapsed": true
   },
   "outputs": [],
   "source": [
    "from collections import OrderedDict, deque\n",
    "import networkx as nx\n",
    "from matplotlib import pyplot as plt"
   ]
  },
  {
   "cell_type": "markdown",
   "metadata": {},
   "source": [
    "## Implementation of my own Graph class"
   ]
  },
  {
   "cell_type": "code",
   "execution_count": 16,
   "metadata": {
    "collapsed": true
   },
   "outputs": [],
   "source": [
    "class Graph(object):\n",
    "    \"\"\"A graph object, stored as an adjacency dictionary. Each node in the\n",
    "    graph is a key in the dictionary. The value of each key is a list of the\n",
    "    corresponding node's neighbors.\n",
    "\n",
    "    Attributes:\n",
    "        dictionary: the adjacency list of the graph.\n",
    "    \"\"\"\n",
    "\n",
    "    def __init__(self, adjacency):\n",
    "        \"\"\"Store the adjacency dictionary as a class attribute.\"\"\"\n",
    "        self.dictionary = adjacency\n",
    "\n",
    "    def __str__(self):\n",
    "        \"\"\"String representation: a sorted view of the adjacency dictionary.\n",
    "        \n",
    "        Example:\n",
    "            >>> test = {'A':['B'], 'B':['A', 'C',], 'C':['B']}\n",
    "            >>> print(Graph(test))\n",
    "            A: B\n",
    "            B: A; C\n",
    "            C: B\n",
    "        \"\"\"\n",
    "        total_str = str()\n",
    "        sorted_dic = OrderedDict(sorted(self.dictionary.items(), key=lambda t: t[0]))\n",
    "        for key in sorted_dic:\n",
    "            total_str += \"%s:\" % (key)\n",
    "            it = 0\n",
    "            for item in self.dictionary[key]:\n",
    "                if len(self.dictionary[key]) == (it+1):\n",
    "                    total_str += \" %s\" % (item)\n",
    "                else:\n",
    "                    total_str += \" %s;\" % (item)\n",
    "                it += 1\n",
    "                \n",
    "            total_str += \"\\n\"\n",
    "        return total_str\n",
    "    \n",
    "    \n",
    "    \n",
    "    def traverse(self, start):\n",
    "        \"\"\"Begin at 'start' and perform a breadth-first search until all\n",
    "        nodes in the graph have been visited. Return a list of values,\n",
    "        in the order that they were visited.\n",
    "\n",
    "        Inputs:\n",
    "            start: the node to start the search at.\n",
    "\n",
    "        Returns:\n",
    "            the list of visited nodes (in order of visitation).\n",
    "\n",
    "        Raises:\n",
    "            ValueError: if 'start' is not in the adjacency dictionary.\n",
    "\n",
    "        Example:\n",
    "            >>> test = {'A':['B'], 'B':['A', 'C',], 'C':['B']}\n",
    "            >>> Graph(test).traverse('B')\n",
    "            ['B', 'A', 'C']\n",
    "        \"\"\"\n",
    "        if not self.dictionary.has_key(start):\n",
    "            raise ValueError(\"%s is not in the graph.\" % start)\n",
    "            \n",
    "        current = start\n",
    "        marked = set()\n",
    "        visited = list()\n",
    "        visited_queue = deque()\n",
    "        \n",
    "        # visit the start node 'current'\n",
    "        visited.append(current)\n",
    "        marked.add(current)\n",
    "        visited_queue.appendleft(current)\n",
    "        \n",
    "        while len(visited) < len(self.dictionary):\n",
    "            current = visited_queue.popleft()\n",
    "            for neighbor in self.dictionary[current]:\n",
    "                if neighbor not in marked:\n",
    "                    visited.append(neighbor)\n",
    "                    visited_queue.append(neighbor)\n",
    "                    marked.add(neighbor)\n",
    "                             \n",
    "        return visited\n",
    "\n",
    "    \n",
    "    \n",
    "    def DFS(self, start):\n",
    "        \"\"\"Begin at 'start' and perform a depth-first search until all\n",
    "        nodes in the graph have been visited. Return a list of values,\n",
    "        in the order that they were visited. If 'start' is not in the\n",
    "        adjacency dictionary, raise a ValueError.\n",
    "\n",
    "        Inputs:\n",
    "            start: the node to start the search at.\n",
    "\n",
    "        Returns:\n",
    "            the list of visited nodes (in order of visitation)\n",
    "        \"\"\"\n",
    "        if not self.dictionary.has_key(start):\n",
    "            raise ValueError(\"%s is not in the graph.\" % start)\n",
    "            \n",
    "        current = start\n",
    "        marked = set()\n",
    "        visited = list()\n",
    "        visited_queue = deque()\n",
    "        \n",
    "        # visit the start node 'current'\n",
    "        \n",
    "        marked.add(current)\n",
    "        visited_queue.append(current)\n",
    "        \n",
    "        while len(visited) < len(self.dictionary):\n",
    "            current = visited_queue.pop()\n",
    "            visited.append(current)\n",
    "            for neighbor in self.dictionary[current]:\n",
    "                if neighbor not in marked:\n",
    "                    visited_queue.append(neighbor)\n",
    "                    marked.add(neighbor)\n",
    "                             \n",
    "        return visited\n",
    "\n",
    "\n",
    "    def shortest_path(self, start, target):\n",
    "        \"\"\"Begin at the node containing 'start' and perform a breadth-first\n",
    "        search until the node containing 'target' is found. Return a list\n",
    "        containg the shortest path from 'start' to 'target'. If either of\n",
    "        the inputs are not in the adjacency graph, raise a ValueError.\n",
    "\n",
    "        Inputs:\n",
    "            start: the node to start the search at.\n",
    "            target: the node to search for.\n",
    "\n",
    "        Returns:\n",
    "            A list of nodes along the shortest path from start to target,\n",
    "                including the endpoints.\n",
    "\n",
    "        Example:\n",
    "            >>> test = {'A':['B', 'F'], 'B':['A', 'C'], 'C':['B', 'D'],\n",
    "            ...         'D':['C', 'E'], 'E':['D', 'F'], 'F':['A', 'E', 'G'],\n",
    "            ...         'G':['A', 'F']}\n",
    "            >>> Graph(test).shortest_path('A', 'G')\n",
    "            ['A', 'F', 'G']\n",
    "        \"\"\"\n",
    "        if not self.dictionary.has_key(start):\n",
    "            raise ValueError(\"%s is not in the graph.\" % start)\n",
    "        elif not self.dictionary.has_key(target):\n",
    "            raise ValueError(\"%s is not in the graph.\" % target)\n",
    "        \n",
    "        path_dict = {}\n",
    "        current = start\n",
    "        marked = set()\n",
    "        visited = list()\n",
    "        visited_queue = deque()\n",
    "        path_list = []\n",
    "        \n",
    "        # visit the start node 'current'\n",
    "        path_dict[current] = current\n",
    "        visited.append(current)\n",
    "        marked.add(current)\n",
    "        visited_queue.appendleft(current)\n",
    "        \n",
    "        while len(visited) < len(self.dictionary):\n",
    "            current = visited_queue.popleft()\n",
    "            if current == target:\n",
    "                break\n",
    "            for neighbor in self.dictionary[current]:\n",
    "                if neighbor not in marked:\n",
    "                    visited.append(neighbor)\n",
    "                    visited_queue.append(neighbor)\n",
    "                    marked.add(neighbor)\n",
    "                    path_dict[neighbor] = current\n",
    "        \n",
    "        path_list.append(current)\n",
    "        while current != start:\n",
    "            current = path_dict[current]\n",
    "            path_list.append(current)\n",
    "            \n",
    "        return path_list[::-1]"
   ]
  },
  {
   "cell_type": "markdown",
   "metadata": {},
   "source": [
    "### Example"
   ]
  },
  {
   "cell_type": "code",
   "execution_count": 19,
   "metadata": {
    "collapsed": false
   },
   "outputs": [
    {
     "name": "stdout",
     "output_type": "stream",
     "text": [
      "MY GRAPH\n",
      "1: 2; 3\n",
      "2: 1; 4\n",
      "3: 1; 7; 8\n",
      "4: 2; 5\n",
      "5: 4; 6\n",
      "6: 5\n",
      "7: 3\n",
      "8: 3\n",
      "9:\n",
      "\n",
      "THE SHORTEST PATH\n",
      "[1, 2, 4, 5]\n"
     ]
    }
   ],
   "source": [
    "dic_2 = {1:[2,3], 2:[1,4], 3:[1,7,8], 4:[2,5], 5:[4,6], 6:[5], 7:[3], 8:[3], 9:[]}\n",
    "B = Graph(dic_2)\n",
    "print \"MY GRAPH\"\n",
    "print B\n",
    "print \"THE SHORTEST PATH\"\n",
    "print B.shortest_path(1,5)"
   ]
  },
  {
   "cell_type": "markdown",
   "metadata": {},
   "source": [
    "## Using the module networkx"
   ]
  },
  {
   "cell_type": "code",
   "execution_count": 6,
   "metadata": {
    "collapsed": true
   },
   "outputs": [],
   "source": [
    "def convert_to_networkx(dictionary):\n",
    "    \"\"\"Convert 'dictionary' to a networkX object and return it.\"\"\"\n",
    "    nx_graph = nx.Graph()\n",
    "    for key in dictionary:\n",
    "        for value in dictionary[key]:\n",
    "            nx_graph.add_edge(key, value)\n",
    "    \n",
    "    return nx_graph"
   ]
  },
  {
   "cell_type": "code",
   "execution_count": 13,
   "metadata": {
    "collapsed": false
   },
   "outputs": [
    {
     "data": {
      "image/png": "[encoded data removed]",
      "text/plain": [
       "<matplotlib.figure.Figure at 0x106a4d910>"
      ]
     },
     "metadata": {},
     "output_type": "display_data"
    }
   ],
   "source": [
    "A = convert_to_networkx(B.dictionary)\n",
    "nx.draw(A)\n",
    "plt.show()"
   ]
  },
  {
   "cell_type": "markdown",
   "metadata": {},
   "source": [
    "# The Kevin Bacon Problem"
   ]
  },
  {
   "cell_type": "code",
   "execution_count": 8,
   "metadata": {
    "collapsed": true
   },
   "outputs": [],
   "source": [
    "# helper funcion to parse the iMDB data\n",
    "def parse(filename=\"movieData.txt\"):\n",
    "    \"\"\"Generate an adjacency dictionary where each key is\n",
    "    a movie and each value is a list of actors in the movie.\n",
    "    \"\"\"\n",
    "\n",
    "    # open the file, read it in, and split the text by '\\n'\n",
    "    with open(filename, 'r') as movieFile:\n",
    "        moviesList = movieFile.read().split('\\n')\n",
    "    graph = dict()\n",
    "\n",
    "    # for each movie in the file,\n",
    "    for movie in moviesList:\n",
    "        # get movie name and list of actors\n",
    "        names = movie.split('/')\n",
    "        title = names[0]\n",
    "        graph[title] = []\n",
    "        # add the actors to the dictionary\n",
    "        for actor in names[1:]:\n",
    "            graph[title].append(actor)\n",
    "    \n",
    "    return graph"
   ]
  },
  {
   "cell_type": "code",
   "execution_count": 9,
   "metadata": {
    "collapsed": true
   },
   "outputs": [],
   "source": [
    "class BaconSolver(object):\n",
    "    \"\"\"Class for solving the Kevin Bacon problem.\"\"\"\n",
    "\n",
    "    def __init__(self, filename=\"movieData.txt\"):\n",
    "        \"\"\"Initialize the networkX graph and with data from the specified\n",
    "        file. Store the graph as a class attribute. Also store the collection\n",
    "        of actors in the file as an attribute.\n",
    "        \"\"\"\n",
    "        dictionary = parse(filename)\n",
    "        self.nx_graph = convert_to_networkx(dictionary)\n",
    "        self.actors = set()\n",
    "        for x in dictionary:\n",
    "            for y in dictionary[x]:\n",
    "                self.actors.add(y)\n",
    "            \n",
    "\n",
    "    def path_to_bacon(self, start, target=\"Bacon, Kevin\"):\n",
    "        \"\"\"Find the shortest path from 'start' to 'target'.\"\"\"\n",
    "        return nx.shortest_path(self.nx_graph, start, target)\n",
    "\n",
    "    \n",
    "    def bacon_number(self, start, target=\"Bacon, Kevin\"):\n",
    "        \"\"\"Return the Bacon number of 'start'.\"\"\"\n",
    "        return (len(self.path_to_bacon(start, target)) - 1) / 2.0\n",
    "\n",
    "    \n",
    "    def average_bacon(self, target=\"Bacon, Kevin\"):\n",
    "        \"\"\"Calculate the average Bacon number in the data set.\n",
    "        Note that actors are not guaranteed to be connected to the target.\n",
    "\n",
    "        Inputs:\n",
    "            target (str): the node to search the graph for\n",
    "        \"\"\"\n",
    "        total = 0\n",
    "        total_people = 0\n",
    "        not_connected = 0\n",
    "        for person in self.actors:\n",
    "            try:\n",
    "                bn = self.bacon_number(person)\n",
    "                total += bn\n",
    "                total_people += 1\n",
    "            except:\n",
    "                not_connected += 1\n",
    "                \n",
    "        return total/float(total_people), not_connected\n",
    "    \n",
    "    \n",
    "    def plot_bacon(self):\n",
    "        total = []\n",
    "        for person in self.actors:\n",
    "            try:\n",
    "                total.append(self.bacon_number(person))\n",
    "            except:\n",
    "                pass\n",
    "                \n",
    "        plt.hist(total, bins=6)\n",
    "        plt.title(\"Bacon Number Distribution\")\n",
    "        plt.xlabel(\"Bacon Number\")\n",
    "        plt.ylabel(\"Actors\")\n",
    "        plt.show\n",
    "                   "
   ]
  },
  {
   "cell_type": "code",
   "execution_count": 10,
   "metadata": {
    "collapsed": false
   },
   "outputs": [
    {
     "name": "stdout",
     "output_type": "stream",
     "text": [
      "The average bacon number is: 2.66443205608\n",
      "The total who arn't: 847\n"
     ]
    },
    {
     "data": {
      "image/png": "[encoded data removed]",
      "text/plain": [
       "<matplotlib.figure.Figure at 0x105584ad0>"
      ]
     },
     "metadata": {},
     "output_type": "display_data"
    }
   ],
   "source": [
    "a = BaconSolver()\n",
    "average, no = a.average_bacon()\n",
    "print \"The average bacon number is: %s\" % average\n",
    "print \"The total who arn't: %s\" % no\n",
    "a.plot_bacon()"
   ]
  }
 ],
 "metadata": {
  "kernelspec": {
   "display_name": "Python 2",
   "language": "python",
   "name": "python2"
  },
  "language_info": {
   "codemirror_mode": {
    "name": "ipython",
    "version": 2
   },
   "file_extension": ".py",
   "mimetype": "text/x-python",
   "name": "python",
   "nbconvert_exporter": "python",
   "pygments_lexer": "ipython2",
   "version": "2.7.10"
  }
 },
 "nbformat": 4,
 "nbformat_minor": 0
}
