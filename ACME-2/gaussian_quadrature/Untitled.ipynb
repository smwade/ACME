{
 "cells": [
  {
   "cell_type": "markdown",
   "metadata": {},
   "source": [
    "# Gaussian Quadrature\n",
    "## Sean Wade"
   ]
  },
  {
   "cell_type": "code",
   "execution_count": null,
   "metadata": {
    "collapsed": true
   },
   "outputs": [],
   "source": [
    "def shift_example():\n",
    "    \"\"\"Plot f(x) = x**2 on [1, 4] and the corresponding function\n",
    "    ((b-a)/2)*g(x) on [-1, 1].\n",
    "    \"\"\"\n",
    "    raise NotImplementedError(\"Problem 2 Incomplete\")\n",
    "\n",
    "\n",
    "def estimate_integral(f, a, b, points, weights):\n",
    "    \"\"\"Estimate the value of the integral of the function 'f' over the\n",
    "    domain [a, b], given the 'points' to use for sampling, and their\n",
    "    corresponding 'weights'.\n",
    "\n",
    "    Return the value of the integral.\n",
    "    \"\"\"\n",
    "    raise NotImplementedError(\"Problem 3 Incomplete\")\n",
    "\n",
    "\n",
    "def gaussian_quadrature(f, a, b, n):\n",
    "    \"\"\"Using the functions from the previous problems, integrate the function\n",
    "    'f' over the domain [a,b] using 'n' points in the quadrature.\n",
    "    \"\"\"\n",
    "    raise NotImplementedError(\"Problem 6 Incomplete\")\n",
    "\n",
    "\n",
    "def normal_cdf(x):\n",
    "    \"\"\"Compute the CDF of the standard normal distribution at the point 'x'.\n",
    "    That is, compute P(X <= x), where X is a normally distributed random\n",
    "    variable.\n",
    "    \"\"\"\n",
    "    raise NotImplementedError(\"Problem 7 Incomplete\")"
   ]
  },
  {
   "cell_type": "code",
   "execution_count": 2,
   "metadata": {
    "collapsed": false
   },
   "outputs": [
    {
     "data": {
      "text/plain": [
       "False"
      ]
     },
     "execution_count": 2,
     "metadata": {},
     "output_type": "execute_result"
    }
   ],
   "source": [
    "def pr1():\n",
    "    g = lambda x: (9./4)*x**2 + 15 * x /2. + 25/4.\n",
    "    return g(1) - g(-1) == 21\n",
    "\n",
    "pr1()\n",
    "    "
   ]
  },
  {
   "cell_type": "code",
   "execution_count": null,
   "metadata": {
    "collapsed": true
   },
   "outputs": [],
   "source": []
  }
 ],
 "metadata": {
  "kernelspec": {
   "display_name": "Python 2",
   "language": "python",
   "name": "python2"
  },
  "language_info": {
   "codemirror_mode": {
    "name": "ipython",
    "version": 2
   },
   "file_extension": ".py",
   "mimetype": "text/x-python",
   "name": "python",
   "nbconvert_exporter": "python",
   "pygments_lexer": "ipython2",
   "version": "2.7.10"
  }
 },
 "nbformat": 4,
 "nbformat_minor": 0
}
