{
 "cells": [
  {
   "cell_type": "markdown",
   "metadata": {},
   "source": [
    "# Nearest Neighbor Search\n",
    "## Sean Wade"
   ]
  },
  {
   "cell_type": "code",
   "execution_count": 5,
   "metadata": {
    "collapsed": true
   },
   "outputs": [],
   "source": [
    "%matplotlib inline"
   ]
  },
  {
   "cell_type": "code",
   "execution_count": 6,
   "metadata": {
    "collapsed": true
   },
   "outputs": [],
   "source": [
    "from Trees import BSTNode, BST\n",
    "from math import sqrt\n",
    "import numpy as np\n",
    "from scipy.spatial import distance, KDTree\n",
    "from sklearn import neighbors"
   ]
  },
  {
   "cell_type": "markdown",
   "metadata": {},
   "source": [
    "### The distance between two points in R dimentional space is the Euclidean Metric"
   ]
  },
  {
   "cell_type": "code",
   "execution_count": 7,
   "metadata": {
    "collapsed": true
   },
   "outputs": [],
   "source": [
    "def euclidean_metric(x, y):\n",
    "    \"\"\"Return the euclidean distance between the vectors 'x' and 'y'.\n",
    "\n",
    "    Raises:\n",
    "        ValueError: if the two vectors 'x' and 'y' are of different lengths.\n",
    "    \n",
    "    Example:\n",
    "        >>> print(euclidean_metric([1,2],[2,2]))\n",
    "        1.0\n",
    "        >>> print(euclidean_metric([1,2,1],[2,2]))\n",
    "        ValueError: Incompatible dimensions.\n",
    "    \"\"\"\n",
    "    if len(x) != len(y):\n",
    "        raise ValueError(\"Incompatible dimensions.\")\n",
    "    return distance.euclidean(x, y)"
   ]
  },
  {
   "cell_type": "markdown",
   "metadata": {},
   "source": [
    "### A nieve approach is to check the distance of all points, but this is slow..."
   ]
  },
  {
   "cell_type": "code",
   "execution_count": 8,
   "metadata": {
    "collapsed": true
   },
   "outputs": [],
   "source": [
    "def exhaustive_search(data_set, target):\n",
    "    \"\"\"Solve the nearest neighbor search problem exhaustively.\n",
    "    Check the distances between 'target' and each point in 'data_set'.\n",
    "    Use the Euclidean metric to calculate distances.\n",
    "    \n",
    "    Inputs:\n",
    "        data_set (mxk ndarray): An array of m k-dimensional points.\n",
    "        target (1xk ndarray): A k-dimensional point to compare to 'dataset'.\n",
    "        \n",
    "    Returns:\n",
    "        the member of 'data_set' that is nearest to 'target' (1xk ndarray).\n",
    "        The distance from the nearest neighbor to 'target' (float).\n",
    "    \"\"\"\n",
    "\n",
    "    if not isinstance(data_set, np.ndarray) or not isinstance(target, np.ndarray):\n",
    "        raise TypeError(\"Should be np.ndarray\")\n",
    "\n",
    "    best_path = -1\n",
    "    best_distance = float('inf')\n",
    "    if len(data_set.shape) > 1:\n",
    "        rows = data_set.shape[0]\n",
    "        cols = data_set.shape[1]\n",
    "    else:\n",
    "        rows, cols = data_set.shape[0]\n",
    "\n",
    "    data_set.astype(float)\n",
    "    target.astype(float)\n",
    "    if cols != target.shape[0]:\n",
    "        raise ValueError(\"Incompatible dimensions.\")\n",
    "    for i in xrange(0, rows):\n",
    "        dst = euclidean_metric(data_set[i], target)\n",
    "        if dst < best_distance:\n",
    "            best_distance = dst\n",
    "            best_path = i\n",
    "    return data_set[best_path], best_distance"
   ]
  },
  {
   "cell_type": "markdown",
   "metadata": {},
   "source": [
    "### A better way is the creation of a K-D Tree"
   ]
  },
  {
   "cell_type": "markdown",
   "metadata": {},
   "source": [
    "#### A simple implemetaion of a KDTNode class"
   ]
  },
  {
   "cell_type": "code",
   "execution_count": 9,
   "metadata": {
    "collapsed": true
   },
   "outputs": [],
   "source": [
    "class KDTNode(BSTNode):\n",
    "    \"\"\"Node class for K-D Trees. Inherits from BSTNode.\n",
    "\n",
    "    Attributes:\n",
    "        left (KDTNode): a reference to this node's left child.\n",
    "        right (KDTNode): a reference to this node's right child.\n",
    "        parent (KDTNode): a reference to this node's parent node.\n",
    "        data (ndarray): a coordinate in k-dimensional space.\n",
    "        axis (int): the 'dimension' of the node to make comparisons on.\n",
    "    \"\"\"\n",
    "\n",
    "    def __init__(self, data):\n",
    "        \"\"\"Construct a K-D Tree node containing 'data'. The left, right,\n",
    "        and prev attributes are set in the constructor of BSTNode.\n",
    "\n",
    "        Raises:\n",
    "            TypeError: if 'data' is not a a numpy array (of type np.ndarray).\n",
    "        \"\"\"\n",
    "        if not isinstance(data, np.ndarray):\n",
    "            raise TypeError(\"should be np.ndarray\")\n",
    "        BSTNode.__init__(self, data)\n",
    "        self.axis  = 0\n",
    "\n",
    "    def __sub__(self, other):\n",
    "        return euclidean_metric(self.data, other.data)\n",
    "\n",
    "    def __eq__(self, other):\n",
    "        if np.allclose(self.data, other.data):\n",
    "            return True\n",
    "        else:\n",
    "            return False\n",
    "\n",
    "    def __lt__(self, other):\n",
    "        return self.data[other.axis] < other.data[other.axis]\n",
    "\n",
    "    def __gt__(self, other):\n",
    "        return self.data[other.axis] > other.data[other.axis]"
   ]
  },
  {
   "cell_type": "markdown",
   "metadata": {},
   "source": [
    "#### And now my implementation of a K-D Tree"
   ]
  },
  {
   "cell_type": "code",
   "execution_count": 10,
   "metadata": {
    "collapsed": true
   },
   "outputs": [],
   "source": [
    "class KDT(BST):\n",
    "    \"\"\"A k-dimensional binary search tree object.\n",
    "    Used to solve the nearest neighbor problem efficiently.\n",
    "\n",
    "    Attributes:\n",
    "        root (KDTNode): the root node of the tree. Like all other\n",
    "            nodes in the tree, the root houses data as a numpy array.\n",
    "        k (int): the dimension of the tree (the 'k' of the k-d tree).\n",
    "    \"\"\"\n",
    "\n",
    "    def __init__(self, data_set):\n",
    "        \"\"\"Set the k attribute and fill the tree with the points in 'data_set'.\n",
    "\n",
    "        Raises:\n",
    "            TypeError: if 'data_set' is not a numpy array (of type np.ndarray)\n",
    "        \"\"\"\n",
    "\n",
    "        # Validate the input type.\n",
    "        if not isinstance(data_set, np.ndarray):\n",
    "            raise TypeError(\"data_set must be a numpy array.\")\n",
    "\n",
    "        # Set the root and dimension attributes.\n",
    "        BST.__init__(self)\n",
    "        self.k = data_set.shape[1]\n",
    "\n",
    "        # Load the data into the tree one point at a time.\n",
    "        for point in data_set:\n",
    "            self.insert(point)\n",
    "    \n",
    "    def find(self, data):\n",
    "        \"\"\"Return the node containing 'data'.\n",
    "\n",
    "        Raises:\n",
    "            ValueError: if there is node containing 'data' in the tree,\n",
    "                or the tree is empty.\n",
    "        \"\"\"\n",
    "\n",
    "        # First check that the tree is not empty.\n",
    "        if self.root is None:\n",
    "            raise ValueError(str(data) + \" is not in the tree.\")\n",
    "        \n",
    "        # Define a recursive function to traverse the tree.\n",
    "        def _step(current, target):\n",
    "            \"\"\"Recursively approach the target node.\"\"\"\n",
    "            \n",
    "            if current is None:             # Base case: target not found.\n",
    "                return current\n",
    "            if current == target:            # Base case: target found!\n",
    "                return current\n",
    "            if target < current:            # Recursively search to the left.\n",
    "                return _step(current.left, target)\n",
    "            else:                           # Recursively search to the right.\n",
    "                return _step(current.right, target)\n",
    "            \n",
    "        # Create a new node to use the KDTNode comparison operators.\n",
    "        n = KDTNode(data)\n",
    "\n",
    "        # Call the recursive function, starting at the root.\n",
    "        found = _step(self.root, n)\n",
    "        if found is None:                  # Report the data was not found.\n",
    "            raise ValueError(str(data) + \" is not in the tree.\")\n",
    "        return found                       # Otherwise, return the target node.\n",
    "    \n",
    "    def insert(self, data):\n",
    "        \"\"\"Inserts new node containing 'data' \"\"\"\n",
    "        new_node = KDTNode(data)\n",
    "        \n",
    "        if self.root is None:\n",
    "            self.root = new_node\n",
    "            self.axis = 0\n",
    "            return\n",
    "\n",
    "        current = self.root\n",
    "        temp = None\n",
    "        while current is not None:\n",
    "            temp = current\n",
    "            if new_node < current:\n",
    "                current = current.left\n",
    "            else:\n",
    "                current = current.right\n",
    "\n",
    "        if new_node < temp:\n",
    "            temp.left = new_node\n",
    "        else:\n",
    "            temp.right = new_node\n",
    "        new_node.axis = (temp.axis + 1) % self.k\n",
    "        new_node.prev = temp\n",
    "\n",
    "    def remove(*args, **kwargs):\n",
    "        raise NotImplementedError(\"remove is disabled for this.\")"
   ]
  },
  {
   "cell_type": "markdown",
   "metadata": {},
   "source": [
    "## My implementation of the nearest neighbor problem using my K-D Tree"
   ]
  },
  {
   "cell_type": "code",
   "execution_count": 11,
   "metadata": {
    "collapsed": true
   },
   "outputs": [],
   "source": [
    "def nearest_neighbor(data_set, target):\n",
    "    \"\"\"Use your KDTree class to solve the nearest neighbor problem.\n",
    "\n",
    "    Inputs:\n",
    "        tree (KDT): A KDT object loaded with a data set of m\n",
    "            k-dimensional points (as numpy arrays).\n",
    "        target (1xk ndarray): A k-dimensional point to compare to the\n",
    "            data housed in 'tree'.\n",
    "\n",
    "    Returns:\n",
    "        The point in the tree that is nearest to 'target' (1xk ndarray).\n",
    "        The distance from the nearest neighbor to 'target' (float).\n",
    "    \"\"\"\n",
    "\n",
    "    def kdts(current, target, neighbor, distance):\n",
    "        index = current.axis\n",
    "        if euclidean_metric(current.data, target.data) < distance:\n",
    "            neighbor = current\n",
    "            distance = euclidean_metric(current.data, target.data)\n",
    "\n",
    "        if target.data[index] < current.data[index]:\n",
    "            if current.left is not None:\n",
    "                neighbor, distance = kdts(current.left, target, neighbor, distance)\n",
    "            if target.data[index] + distance >= current.data[index]:\n",
    "                if current.right is not None:\n",
    "                    neighbor, distance = kdts(current.right, target, neighbor, distance)\n",
    "        else:\n",
    "            if current.right is not None:\n",
    "                neighbor, distance = kdts(current.right, target, neighbor, distance)\n",
    "            if target.data[index] - distance <= current.data[index]:\n",
    "                if current.left is not None:\n",
    "                    neighbor, distance = kdts(current.left, target, neighbor, distance)\n",
    "        return neighbor, distance\n",
    "    \n",
    "\n",
    "    tree = KDT(data_set)\n",
    "    current = tree.root\n",
    "    target = KDTNode(target)\n",
    "    distance = euclidean_metric(current.data, target.data)\n",
    "    a, b = kdts(current, target, current, distance)\n",
    "    return a.data, b"
   ]
  },
  {
   "cell_type": "markdown",
   "metadata": {},
   "source": [
    "### We can see that it works by comparing the result with the module sklearn"
   ]
  },
  {
   "cell_type": "code",
   "execution_count": 19,
   "metadata": {
    "collapsed": false
   },
   "outputs": [
    {
     "name": "stdout",
     "output_type": "stream",
     "text": [
      "[ 0.49147287  0.34771609  0.29046819  0.83604766  0.19354734  0.37414869\n",
      "  0.31666554  0.54183142  0.0130665   0.26447533  0.13721563  0.55408911\n",
      "  0.69137192  0.49550844  0.51738799  0.0424426   0.89690185  0.25705754\n",
      "  0.31254945  0.87888943]\n",
      "========================================================================\n",
      "[ 0.49147287  0.34771609  0.29046819  0.83604766  0.19354734  0.37414869\n",
      "  0.31666554  0.54183142  0.0130665   0.26447533  0.13721563  0.55408911\n",
      "  0.69137192  0.49550844  0.51738799  0.0424426   0.89690185  0.25705754\n",
      "  0.31254945  0.87888943]\n"
     ]
    }
   ],
   "source": [
    "data_set = np.random.random((100, 20))\n",
    "target = np.random.random(20)\n",
    "tree = KDTree(data_set)\n",
    "\n",
    "dis, n = tree.query(target)\n",
    "a, b = nearest_neighbor(data_set, target)\n",
    "print tree.data[n]\n",
    "print \"=\"*72\n",
    "print a"
   ]
  },
  {
   "cell_type": "markdown",
   "metadata": {},
   "source": [
    "## Handwritten number identification with sklearn\n",
    "#### Using samples from the Postal Service, I can use a K-T tree to take a sample image and identify which number it is"
   ]
  },
  {
   "cell_type": "code",
   "execution_count": 20,
   "metadata": {
    "collapsed": true
   },
   "outputs": [],
   "source": [
    "def postal_problem():\n",
    "    \"\"\"Use the neighbors module in sklearn to classify the Postal data set\n",
    "    provided in 'PostalData.npz'. Classify the testpoints with 'n_neighbors'\n",
    "    as 1, 4, or 10, and with 'weights' as 'uniform' or 'distance'. For each\n",
    "    trial print a report indicating how the classifier performs in terms of\n",
    "    percentage of misclassifications.\n",
    "\n",
    "    Your function should print a report similar to the following:\n",
    "    n_neighbors = 1, weights = 'distance':  0.903\n",
    "    n_neighbors = 1, weights =  'uniform':  0.903       (...and so on.)\n",
    "    \"\"\"\n",
    "\n",
    "    def test_right(x, w):\n",
    "        labels, points, testlabels, testpoints = np.load('PostalData.npz').items()\n",
    "        nbrs = neighbors.KNeighborsClassifier(n_neighbors=x, weights=w, p=2)\n",
    "        nbrs.fit(points[1], labels[1])\n",
    "        prediction = nbrs.predict(testpoints[1])\n",
    "        result = np.average(prediction/testlabels[1])\n",
    "        print \"n_neighbors = %s, weights = %s:   %s\" % (x, w, result)\n",
    "    \n",
    "    test_right(1,'distance')\n",
    "    test_right(1,'uniform')\n",
    "    test_right(4,'distance')\n",
    "    test_right(4,'uniform')\n",
    "    test_right(10,'distance')\n",
    "    test_right(10,'uniform')\n"
   ]
  },
  {
   "cell_type": "markdown",
   "metadata": {},
   "source": [
    "#### A report of the accuracy of each method"
   ]
  },
  {
   "cell_type": "code",
   "execution_count": null,
   "metadata": {
    "collapsed": false
   },
   "outputs": [],
   "source": [
    "postal_problem()"
   ]
  },
  {
   "cell_type": "code",
   "execution_count": null,
   "metadata": {
    "collapsed": true
   },
   "outputs": [],
   "source": []
  }
 ],
 "metadata": {
  "kernelspec": {
   "display_name": "Python 2",
   "language": "python",
   "name": "python2"
  },
  "language_info": {
   "codemirror_mode": {
    "name": "ipython",
    "version": 2
   },
   "file_extension": ".py",
   "mimetype": "text/x-python",
   "name": "python",
   "nbconvert_exporter": "python",
   "pygments_lexer": "ipython2",
   "version": "2.7.10"
  }
 },
 "nbformat": 4,
 "nbformat_minor": 0
}
